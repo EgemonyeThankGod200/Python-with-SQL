{
 "cells": [
  {
   "cell_type": "markdown",
   "id": "71c9bf83",
   "metadata": {},
   "source": [
    "# Python with MySQL"
   ]
  },
  {
   "cell_type": "code",
   "execution_count": 1,
   "id": "7891aced",
   "metadata": {},
   "outputs": [],
   "source": [
    "# importing mysql connector for python to access your MySQL database\n",
    "import mysql.connector"
   ]
  },
  {
   "cell_type": "code",
   "execution_count": 2,
   "id": "cb305a8c",
   "metadata": {},
   "outputs": [
    {
     "name": "stdout",
     "output_type": "stream",
     "text": [
      "<mysql.connector.connection_cext.CMySQLConnection object at 0x0000016CD47DFB20>\n"
     ]
    }
   ],
   "source": [
    "# connect python/jupyter to your sql account\n",
    "mydb = mysql.connector.connect(host='localhost', user='root', passwd='Your MYSQL password')\n",
    "print(mydb)"
   ]
  },
  {
   "cell_type": "code",
   "execution_count": 4,
   "id": "820c209f",
   "metadata": {},
   "outputs": [
    {
     "name": "stdout",
     "output_type": "stream",
     "text": [
      "<mysql.connector.connection_cext.CMySQLConnection object at 0x0000016CD637E3A0>\n"
     ]
    }
   ],
   "source": [
    "# creating your database \"sq\" after connecting to your MySQl account\n",
    "mydb = mysql.connector.connect(host='localhost', user='root', passwd='Your MYSQL password', database='sq')\n",
    "print(mydb)"
   ]
  },
  {
   "cell_type": "code",
   "execution_count": 26,
   "id": "b584d1dd",
   "metadata": {},
   "outputs": [],
   "source": [
    "# Creating customer table in the database with type of data need (VARCHAR=string)\n",
    "mycursor= mydb.cursor()\n",
    "mycursor.execute('CREATE TABLE customer (name VARCHAR(255), address VARCHAR(255))')"
   ]
  },
  {
   "cell_type": "code",
   "execution_count": 27,
   "id": "682a9bf3",
   "metadata": {},
   "outputs": [
    {
     "name": "stdout",
     "output_type": "stream",
     "text": [
      "('customer',)\n"
     ]
    }
   ],
   "source": [
    "# show created table\n",
    "mydb = mysql.connector.connect(host='localhost', user='root', passwd='Your MYSQL password', database='sq')\n",
    "mycursor= mydb.cursor()\n",
    "mycursor.execute('SHOW TABLES')\n",
    "for x in mycursor:\n",
    "    print(x)"
   ]
  },
  {
   "cell_type": "code",
   "execution_count": 28,
   "id": "aaad419e",
   "metadata": {},
   "outputs": [],
   "source": [
    "# Adding a column id to the table and making it the primary key as well as auto-increment the customer id\n",
    "mycursor.execute('ALTER TABLE customer ADD COLUMN id INT AUTO_INCREMENT PRIMARY KEY')"
   ]
  },
  {
   "cell_type": "code",
   "execution_count": 29,
   "id": "da3459bd",
   "metadata": {},
   "outputs": [
    {
     "name": "stdout",
     "output_type": "stream",
     "text": [
      "1 record inserted.\n"
     ]
    }
   ],
   "source": [
    "# inserting details for a particular customer\n",
    "sql = 'INSERT INTO customer(name,address) VALUES(%s, %s)'\n",
    "val = ('ThankGod', 'No.14 Highway')\n",
    "mycursor.execute(sql,val)\n",
    "mydb.commit\n",
    "print(mycursor.rowcount, 'record inserted.')"
   ]
  },
  {
   "cell_type": "code",
   "execution_count": 30,
   "id": "d262cc18",
   "metadata": {},
   "outputs": [
    {
     "name": "stdout",
     "output_type": "stream",
     "text": [
      "13 was inserted.\n"
     ]
    }
   ],
   "source": [
    "# inserting names and address of customers in the created table\n",
    "mycursor= mydb.cursor()\n",
    "sql = 'INSERT INTO customer(name,address) VALUES(%s, %s)'\n",
    "val = [('Nkechi', 'Goldie'),('Lilian', 'Mount Zion'),('Bassey', 'Orok Orok'), ('Okon', 'Abasi Edem'), ('Richard', 'Atamuno'),\n",
    "('Ben', 'Eastern Highay'),('Natasha', 'Etim Edem'), ('Enobong', 'Mayne Avenue'),('Amina', 'Gbogobiri'),('Muhammed', 'Cultural Center'),\n",
    "('Chima', 'Etta Agbor'), ('Chisom', 'Anangtigha'), ('Emma', 'Marian')]\n",
    "\n",
    "mycursor.executemany(sql,val)\n",
    "mydb.commit()\n",
    "print(mycursor.rowcount, 'was inserted.')"
   ]
  },
  {
   "cell_type": "code",
   "execution_count": 31,
   "id": "38b16ad6",
   "metadata": {},
   "outputs": [
    {
     "name": "stdout",
     "output_type": "stream",
     "text": [
      "('ThankGod', 'No.14 Highway', 1)\n",
      "('Nkechi', 'Goldie', 2)\n",
      "('Lilian', 'Mount Zion', 3)\n",
      "('Bassey', 'Orok Orok', 4)\n",
      "('Okon', 'Abasi Edem', 5)\n",
      "('Richard', 'Atamuno', 6)\n",
      "('Ben', 'Eastern Highay', 7)\n",
      "('Natasha', 'Etim Edem', 8)\n",
      "('Enobong', 'Mayne Avenue', 9)\n",
      "('Amina', 'Gbogobiri', 10)\n",
      "('Muhammed', 'Cultural Center', 11)\n",
      "('Chima', 'Etta Agbor', 12)\n",
      "('Chisom', 'Anangtigha', 13)\n",
      "('Emma', 'Marian', 14)\n"
     ]
    }
   ],
   "source": [
    "# getting all customers details\n",
    "mycursor.execute('SELECT* FROM customer')\n",
    "myresult = mycursor.fetchall()\n",
    "for x in myresult:\n",
    "    print(x)"
   ]
  },
  {
   "cell_type": "code",
   "execution_count": 32,
   "id": "9a088ec6",
   "metadata": {},
   "outputs": [
    {
     "name": "stdout",
     "output_type": "stream",
     "text": [
      "('ThankGod', 'No.14 Highway')\n",
      "('Nkechi', 'Goldie')\n",
      "('Lilian', 'Mount Zion')\n",
      "('Bassey', 'Orok Orok')\n",
      "('Okon', 'Abasi Edem')\n",
      "('Richard', 'Atamuno')\n",
      "('Ben', 'Eastern Highay')\n",
      "('Natasha', 'Etim Edem')\n",
      "('Enobong', 'Mayne Avenue')\n",
      "('Amina', 'Gbogobiri')\n",
      "('Muhammed', 'Cultural Center')\n",
      "('Chima', 'Etta Agbor')\n",
      "('Chisom', 'Anangtigha')\n",
      "('Emma', 'Marian')\n"
     ]
    }
   ],
   "source": [
    "# fetching only name and adress of customers\n",
    "mycursor= mydb.cursor()\n",
    "mycursor.execute('SELECT name, address FROM customer')\n",
    "myresult = mycursor.fetchall()\n",
    "for x in myresult:\n",
    "    print(x)"
   ]
  },
  {
   "cell_type": "code",
   "execution_count": 33,
   "id": "93d0383a",
   "metadata": {},
   "outputs": [
    {
     "name": "stdout",
     "output_type": "stream",
     "text": [
      "(14,)\n"
     ]
    }
   ],
   "source": [
    "# counting all \n",
    "mycursor.execute('SELECT count(*) FROM customer')\n",
    "myresult = mycursor.fetchall()\n",
    "for x in myresult:\n",
    "    print(x)"
   ]
  },
  {
   "cell_type": "code",
   "execution_count": 35,
   "id": "4ebb011c",
   "metadata": {},
   "outputs": [
    {
     "name": "stdout",
     "output_type": "stream",
     "text": [
      "('Nkechi', 'Goldie', 2)\n"
     ]
    }
   ],
   "source": [
    "# fetching all data that has address \"Goldie\"\n",
    "mycursor= mydb.cursor()\n",
    "sql= \"SELECT * FROM customer WHERE address = 'Goldie'\"\n",
    "mycursor.execute(sql)\n",
    "myresult = mycursor.fetchall()\n",
    "for x in myresult:\n",
    "    print(x)"
   ]
  },
  {
   "cell_type": "code",
   "execution_count": 43,
   "id": "299fcdd5",
   "metadata": {},
   "outputs": [
    {
     "name": "stdout",
     "output_type": "stream",
     "text": [
      "('Lilian', 'Mount Zion', 3)\n",
      "('Enobong', 'Mayne Avenue', 9)\n",
      "('Emma', 'Marian', 14)\n"
     ]
    }
   ],
   "source": [
    "# Fetching all data that has address starting with letter \"M\"\n",
    "mycursor= mydb.cursor()\n",
    "sql= \"SELECT * FROM customer WHERE address LIKE 'm%'\"\n",
    "mycursor.execute(sql)\n",
    "myresult = mycursor.fetchall()\n",
    "for x in myresult:\n",
    "    print(x)"
   ]
  },
  {
   "cell_type": "code",
   "execution_count": 44,
   "id": "4a3f664b",
   "metadata": {},
   "outputs": [
    {
     "name": "stdout",
     "output_type": "stream",
     "text": [
      "('Amina', 'Gbogobiri', 10)\n",
      "('Bassey', 'Orok Orok', 4)\n",
      "('Ben', 'Eastern Highay', 7)\n",
      "('Chima', 'Etta Agbor', 12)\n",
      "('Chisom', 'Anangtigha', 13)\n",
      "('Emma', 'Marian', 14)\n",
      "('Enobong', 'Mayne Avenue', 9)\n",
      "('Lilian', 'Mount Zion', 3)\n",
      "('Muhammed', 'Cultural Center', 11)\n",
      "('Natasha', 'Etim Edem', 8)\n",
      "('Nkechi', 'Goldie', 2)\n",
      "('Okon', 'Abasi Edem', 5)\n",
      "('Richard', 'Atamuno', 6)\n",
      "('ThankGod', 'No.14 Highway', 1)\n"
     ]
    }
   ],
   "source": [
    "# fetching all customers details in an ascending order of their names\n",
    "mycursor= mydb.cursor()\n",
    "sql= \"SELECT * FROM customer ORDER BY name\"\n",
    "mycursor.execute(sql)\n",
    "myresult = mycursor.fetchall()\n",
    "for x in myresult:\n",
    "    print(x)"
   ]
  },
  {
   "cell_type": "code",
   "execution_count": 45,
   "id": "201ffe4d",
   "metadata": {},
   "outputs": [
    {
     "name": "stdout",
     "output_type": "stream",
     "text": [
      "('ThankGod', 'No.14 Highway', 1)\n",
      "('Richard', 'Atamuno', 6)\n",
      "('Okon', 'Abasi Edem', 5)\n",
      "('Nkechi', 'Goldie', 2)\n",
      "('Natasha', 'Etim Edem', 8)\n",
      "('Muhammed', 'Cultural Center', 11)\n",
      "('Lilian', 'Mount Zion', 3)\n",
      "('Enobong', 'Mayne Avenue', 9)\n",
      "('Emma', 'Marian', 14)\n",
      "('Chisom', 'Anangtigha', 13)\n",
      "('Chima', 'Etta Agbor', 12)\n",
      "('Ben', 'Eastern Highay', 7)\n",
      "('Bassey', 'Orok Orok', 4)\n",
      "('Amina', 'Gbogobiri', 10)\n"
     ]
    }
   ],
   "source": [
    "# fetching all customers details in descending order of their names\n",
    "mycursor= mydb.cursor()\n",
    "sql= \"SELECT * FROM customer ORDER BY name DESC\"\n",
    "mycursor.execute(sql)\n",
    "myresult = mycursor.fetchall()\n",
    "for x in myresult:\n",
    "    print(x)"
   ]
  },
  {
   "cell_type": "code",
   "execution_count": null,
   "id": "b8f4c861",
   "metadata": {},
   "outputs": [],
   "source": []
  }
 ],
 "metadata": {
  "kernelspec": {
   "display_name": "Python 3 (ipykernel)",
   "language": "python",
   "name": "python3"
  },
  "language_info": {
   "codemirror_mode": {
    "name": "ipython",
    "version": 3
   },
   "file_extension": ".py",
   "mimetype": "text/x-python",
   "name": "python",
   "nbconvert_exporter": "python",
   "pygments_lexer": "ipython3",
   "version": "3.9.12"
  }
 },
 "nbformat": 4,
 "nbformat_minor": 5
}
